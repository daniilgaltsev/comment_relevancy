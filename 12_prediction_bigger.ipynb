{
 "cells": [
  {
   "cell_type": "code",
   "execution_count": null,
   "id": "c687b9e6-615c-44b0-bc6d-dbdaae8ce8f4",
   "metadata": {},
   "outputs": [],
   "source": [
    "import ast\n",
    "from pathlib import Path\n",
    "import pickle\n",
    "\n",
    "import datasets\n",
    "import evaluate\n",
    "import numpy as np\n",
    "import torch\n",
    "from torch import nn\n",
    "from transformers import AutoTokenizer, AutoModelForSequenceClassification, DataCollatorWithPadding, Trainer, TrainingArguments"
   ]
  },
  {
   "cell_type": "code",
   "execution_count": null,
   "id": "5785730c-b65e-4d75-9636-690ca76487c2",
   "metadata": {},
   "outputs": [],
   "source": [
    "model_id = \"answerdotai/ModernBERT-base\"\n",
    "tokenizer = AutoTokenizer.from_pretrained(model_id)"
   ]
  },
  {
   "cell_type": "code",
   "execution_count": null,
   "id": "b9b9fdf2-0bc0-4fe0-8905-306700d7e980",
   "metadata": {},
   "outputs": [],
   "source": [
    "model = AutoModelForSequenceClassification.from_pretrained(\"finetuned_bigger\")"
   ]
  },
  {
   "cell_type": "code",
   "execution_count": null,
   "id": "21e1ed1d-8830-4599-88b6-75b4feb403ff",
   "metadata": {},
   "outputs": [],
   "source": [
    "sep = \"[SEP]\"\n",
    "\n",
    "def prepare_input(example):\n",
    "    tokens = tokenizer(\n",
    "        example[\"function_definition\"] + sep + example[\"code\"] + sep + example[\"comment\"],\n",
    "        truncation=True,\n",
    "        max_length=1024,\n",
    "        return_tensors=\"pt\"\n",
    "    )\n",
    "    return tokens"
   ]
  },
  {
   "cell_type": "code",
   "execution_count": null,
   "id": "17e9507f-3345-4492-b99e-5385f1f33faa",
   "metadata": {},
   "outputs": [],
   "source": [
    "def parse_text(text):\n",
    "    # NOTE: Doesn't collect comments and function definitions correctly\n",
    "    inputs = []\n",
    "    defs = []\n",
    "    tree = ast.parse(text)\n",
    "    for el in tree.body:\n",
    "        if isinstance(el, ast.FunctionDef):\n",
    "            defs.append((el.lineno - 1, el.end_lineno - 1, el.col_offset))\n",
    "\n",
    "    inputs = []\n",
    "    lines = text.split('\\n')\n",
    "    for lineno, line in enumerate(lines):\n",
    "        if (offset := line.find('#')) != -1:\n",
    "            corresponding_def = None\n",
    "            for (def_l, def_el, def_off) in defs:\n",
    "                if def_l <= lineno and def_off <= offset:\n",
    "                    corresponding_def = (def_l, def_el, def_off)\n",
    "\n",
    "            comment = line[offset:]\n",
    "            code = '\\n'.join(lines[lineno - 4:lineno + 4])\n",
    "            fdef = \"None\"\n",
    "            if corresponding_def is not None:\n",
    "                fdef = [lines[corresponding_def[0]][corresponding_def[2]:]]\n",
    "                cur_lineno = corresponding_def[0]\n",
    "                while cur_lineno <= corresponding_def[1]:\n",
    "                    if lines[cur_lineno].find(\"):\") != -1 or lines[cur_lineno].find(\"->\") != -1:\n",
    "                        fdef += lines[corresponding_def[0] + 1:cur_lineno + 1]\n",
    "                        break\n",
    "                    cur_lineno += 1\n",
    "                \n",
    "                fdef = '\\n'.join(fdef).strip()\n",
    "                    \n",
    "            inputs.append({\n",
    "                \"function_definition\": fdef,\n",
    "                \"code\": code,\n",
    "                \"comment\": comment,\n",
    "                \"lineno\": lineno\n",
    "            })\n",
    "    return inputs"
   ]
  },
  {
   "cell_type": "code",
   "execution_count": null,
   "id": "2b78f172-9ab2-4111-b956-a2d8ebb0abd1",
   "metadata": {},
   "outputs": [
    {
     "data": {
      "text/plain": [
       "(torch.Size([1, 179]), torch.Size([1, 146]))"
      ]
     },
     "execution_count": null,
     "metadata": {},
     "output_type": "execute_result"
    }
   ],
   "source": [
    "text = Path(\"example.py\").open(\"r\").read()\n",
    "parsed = parse_text(text)\n",
    "prepared = list(map(prepare_input, parsed))\n",
    "prepared[0][\"input_ids\"].shape, prepared[1][\"input_ids\"].shape"
   ]
  },
  {
   "cell_type": "code",
   "execution_count": null,
   "id": "e8f845b2-1c5f-4721-af1b-6d05ba446932",
   "metadata": {},
   "outputs": [],
   "source": [
    "sep = \"[SEP]\"\n",
    "\n",
    "def prepare_input_batch(examples):\n",
    "    to_tokenize = [example[\"function_definition\"] + sep + example[\"code\"] + sep + example[\"comment\"] for example in examples]\n",
    "    tokens = tokenizer(\n",
    "        to_tokenize,\n",
    "        truncation=True,\n",
    "        padding=True,\n",
    "        max_length=1024,\n",
    "        return_tensors=\"pt\"\n",
    "    )\n",
    "    return tokens"
   ]
  },
  {
   "cell_type": "code",
   "execution_count": null,
   "id": "6f34bde0-ac28-4971-92c7-c444c9ea8988",
   "metadata": {},
   "outputs": [
    {
     "data": {
      "text/plain": [
       "torch.Size([4, 179])"
      ]
     },
     "execution_count": null,
     "metadata": {},
     "output_type": "execute_result"
    }
   ],
   "source": [
    "text = Path(\"example.py\").open(\"r\").read()\n",
    "parsed = parse_text(text)\n",
    "prepared = prepare_input_batch(parsed)\n",
    "prepared[\"input_ids\"].shape"
   ]
  },
  {
   "cell_type": "code",
   "execution_count": null,
   "id": "ce40ae02-7d69-456a-b656-bb4571b489da",
   "metadata": {},
   "outputs": [],
   "source": [
    "def predict(inp, model=model):\n",
    "    with torch.no_grad():\n",
    "        out = model(**inp)\n",
    "    return nn.functional.softmax(out.logits, dim=-1)[:, 1].tolist()"
   ]
  },
  {
   "cell_type": "code",
   "execution_count": null,
   "id": "331efab5-733c-4c7a-b96a-698466d8f26a",
   "metadata": {},
   "outputs": [
    {
     "data": {
      "text/plain": [
       "[0.9620012044906616,\n",
       " 0.8701790571212769,\n",
       " 0.9321628212928772,\n",
       " 0.8722432255744934]"
      ]
     },
     "execution_count": null,
     "metadata": {},
     "output_type": "execute_result"
    }
   ],
   "source": [
    "predict(prepared)"
   ]
  },
  {
   "cell_type": "code",
   "execution_count": null,
   "id": "ffadfd78-fc61-4e78-acd0-eda7f25f2850",
   "metadata": {},
   "outputs": [],
   "source": [
    "def parse_and_predict(text, thrd=None):\n",
    "    parsed = parse_text(text)\n",
    "    preds = predict(prepare_input_batch(parsed))\n",
    "    result = []\n",
    "    for i, p in enumerate(preds):\n",
    "        if thrd:\n",
    "            p = thrd > p\n",
    "        result.append((parsed[i][\"lineno\"], p))\n",
    "        \n",
    "    return result\n",
    "\n",
    "\n",
    "def parse_and_predict_file(path, thrd=None):\n",
    "    text = Path(path).open(\"r\").read()\n",
    "    return parse_and_predict(text, thrd)"
   ]
  },
  {
   "cell_type": "code",
   "execution_count": null,
   "id": "b1081c2a-cd79-4a6f-a7bf-1d6015223a81",
   "metadata": {},
   "outputs": [
    {
     "data": {
      "text/plain": [
       "[(42, 0.9620012044906616),\n",
       " (48, 0.8701790571212769),\n",
       " (54, 0.9321628212928772),\n",
       " (55, 0.8722432255744934)]"
      ]
     },
     "execution_count": null,
     "metadata": {},
     "output_type": "execute_result"
    }
   ],
   "source": [
    "parse_and_predict_file(\"example.py\")"
   ]
  },
  {
   "cell_type": "code",
   "execution_count": null,
   "id": "b25df788-7df4-47a8-8044-9f580bb28140",
   "metadata": {},
   "outputs": [
    {
     "data": {
      "text/plain": [
       "[(2, 0.23048676550388336),\n",
       " (3, 0.14431209862232208),\n",
       " (4, 0.1821700781583786),\n",
       " (5, 0.1499861180782318)]"
      ]
     },
     "execution_count": null,
     "metadata": {},
     "output_type": "execute_result"
    }
   ],
   "source": [
    "parse_and_predict(\n",
    "\"\"\"a = 3\n",
    "b = 2\n",
    "# The code below does some calculations based on a predefined rule that is very important\n",
    "c = a - b  # Calculate and store the sum of a and b in c\n",
    "d = a + b  # Calculate and store the sum of a and b in d\n",
    "e = c * b  # Calculate and store the product of c and d in e\n",
    "print(f\"Wow, maths: {[a, b, c, d, e]}\")\"\"\"\n",
    ")"
   ]
  },
  {
   "cell_type": "code",
   "execution_count": null,
   "id": "0a202339-ec4b-4124-aca1-3238b29b956b",
   "metadata": {},
   "outputs": [],
   "source": []
  }
 ],
 "metadata": {
  "kernelspec": {
   "display_name": "Python 3 (ipykernel)",
   "language": "python",
   "name": "python3"
  },
  "language_info": {
   "codemirror_mode": {
    "name": "ipython",
    "version": 3
   },
   "file_extension": ".py",
   "mimetype": "text/x-python",
   "name": "python",
   "nbconvert_exporter": "python",
   "pygments_lexer": "ipython3"
  }
 },
 "nbformat": 4,
 "nbformat_minor": 5
}
