{
 "cells": [
  {
   "cell_type": "code",
   "execution_count": null,
   "id": "8b0146c3-3898-42c9-96e3-a0455db9eb3d",
   "metadata": {},
   "outputs": [],
   "source": [
    "from pathlib import Path\n",
    "import pickle"
   ]
  },
  {
   "cell_type": "code",
   "execution_count": null,
   "id": "fe385e34-3899-4a0d-a76c-2183262b93f6",
   "metadata": {},
   "outputs": [],
   "source": [
    "filename = \"role_domain_1000\""
   ]
  },
  {
   "cell_type": "code",
   "execution_count": null,
   "id": "6773e997-879b-4506-8ab2-c2a6f70570ea",
   "metadata": {},
   "outputs": [
    {
     "data": {
      "text/plain": [
       "1000"
      ]
     },
     "execution_count": null,
     "metadata": {},
     "output_type": "execute_result"
    }
   ],
   "source": [
    "with Path(filename).open(\"rb\") as f:\n",
    "    results = pickle.load(f)\n",
    "len(results)"
   ]
  },
  {
   "cell_type": "code",
   "execution_count": null,
   "id": "1a816fac-bdef-4c44-9596-35073e0b1989",
   "metadata": {},
   "outputs": [
    {
     "data": {
      "text/plain": [
       "{'type': 'succeeded',\n",
       " 'content': '{\\n  \"function_definition\": \"def prepare_visual_for_report(data, title, filename):\",\\n  \"code\": \"\"\"\\n    import matplotlib.pyplot as plt\\n    \\n    # Create a figure and axis\\n    fig, ax = plt.subplots(figsize=(8, 6))\\n    \\n    # Plot the data\\n    ax.plot(data)\\n    \\n    # Set the title and axis labels\\n    ax.set_title(title)\\n    ax.set_xlabel(\\'X\\')\\n    ax.set_ylabel(\\'Y\\')\\n    \\n    # Save the figure to a file\\n    plt.savefig(filename)\\n\"\"\",\\n  \"comment\": \"# Create a figure and axis\",\\n  \"explanation\": \"The comment is incorrect because it does not accurately describe the purpose of the code. The code is creating a figure and axis, but the comment does not mention the purpose of creating them.\",\\n  \"correct\": false\\n}'}"
      ]
     },
     "execution_count": null,
     "metadata": {},
     "output_type": "execute_result"
    }
   ],
   "source": [
    "example = next(iter(results.values()))\n",
    "example"
   ]
  },
  {
   "cell_type": "code",
   "execution_count": null,
   "id": "48ddb376-339b-402d-b45a-4da61c49de52",
   "metadata": {},
   "outputs": [
    {
     "name": "stdout",
     "output_type": "stream",
     "text": [
      "\"function_definition\": \"def prepare_visual_for_report(data, title, filename):\",\n",
      "  \n",
      "\"code\": \"\"\"\n",
      "    import matplotlib.pyplot as plt\n",
      "    \n",
      "    # Create a figure and axis\n",
      "    fig, ax = plt.subplots(figsize=(8, 6))\n",
      "    \n",
      "    # Plot the data\n",
      "    ax.plot(data)\n",
      "    \n",
      "    # Set the title and axis labels\n",
      "    ax.set_title(title)\n",
      "    ax.set_xlabel('X')\n",
      "    ax.set_ylabel('Y')\n",
      "    \n",
      "    # Save the figure to a file\n",
      "    plt.savefig(filename)\n",
      "\"\"\",\n",
      "  \n",
      "\"comment\": \"# Create a figure and axis\",\n",
      "  \n",
      "\"explanation\": \"The comment is incorrect because it does not accurately describe the purpose of the code. The code is creating a figure and axis, but the comment does not mention the purpose of creating them.\",\n",
      "  \n",
      "\"correct\": false\n",
      "}\n"
     ]
    }
   ],
   "source": [
    "fd_key = '\"function_definition\": '\n",
    "code_key = '\"code\": '\n",
    "com_key = '\"comment\": '\n",
    "e_key = '\"explanation\": '\n",
    "r_key = '\"correct\": '\n",
    "\n",
    "cont = example[\"content\"]\n",
    "\n",
    "fd_s = cont.find(fd_key)\n",
    "code_s = cont.find(code_key)\n",
    "com_s = cont.find(com_key)\n",
    "e_s = cont.find(e_key)\n",
    "r_s = cont.find(r_key)\n",
    "\n",
    "print(cont[fd_s:code_s])\n",
    "print(cont[code_s:com_s])\n",
    "print(cont[com_s:e_s])\n",
    "print(cont[e_s:r_s])\n",
    "print(cont[r_s:])"
   ]
  },
  {
   "cell_type": "code",
   "execution_count": null,
   "id": "b5e33e85-139f-4c2c-8601-fc877e69f2b3",
   "metadata": {},
   "outputs": [
    {
     "name": "stdout",
     "output_type": "stream",
     "text": [
      "\"function_definition\": \"def prepare_visual_for_report(data, title, filename):\"\n",
      "\"code\": \"\"\"\n",
      "    import matplotlib.pyplot as plt\n",
      "    \n",
      "    # Create a figure and axis\n",
      "    fig, ax = plt.subplots(figsize=(8, 6))\n",
      "    \n",
      "    # Plot the data\n",
      "    ax.plot(data)\n",
      "    \n",
      "    # Set the title and axis labels\n",
      "    ax.set_title(title)\n",
      "    ax.set_xlabel('X')\n",
      "    ax.set_ylabel('Y')\n",
      "    \n",
      "    # Save the figure to a file\n",
      "    plt.savefig(filename)\n",
      "\"\"\"\n",
      "\"comment\": \"# Create a figure and axis\"\n",
      "\"explanation\": \"The comment is incorrect because it does not accurately describe the purpose of the code. The code is creating a figure and axis, but the comment does not mention the purpose of creating them.\"\n",
      "\"correct\": false\n"
     ]
    }
   ],
   "source": [
    "fd_e = cont.find('\",\\n', fd_s) + 1\n",
    "code_e = cont.find('\",\\n', code_s) + 1\n",
    "com_e = cont.find('\",\\n', com_s) + 1\n",
    "e_e = cont.find('\",\\n', e_s) + 1\n",
    "r_e = cont.find('\\n}', r_s)\n",
    "\n",
    "print(cont[fd_s:fd_e])\n",
    "print(cont[code_s:code_e])\n",
    "print(cont[com_s:com_e])\n",
    "print(cont[e_s:e_e])\n",
    "print(cont[r_s:r_e])"
   ]
  },
  {
   "cell_type": "code",
   "execution_count": null,
   "id": "1dad385f-12a4-4a25-a417-454cf2b3d3e7",
   "metadata": {},
   "outputs": [
    {
     "name": "stdout",
     "output_type": "stream",
     "text": [
      "916\n"
     ]
    }
   ],
   "source": [
    "def prepare_data(cont):\n",
    "    fd_s = cont.find(fd_key)\n",
    "    code_s = cont.find(code_key)\n",
    "    com_s = cont.find(com_key)\n",
    "    e_s = cont.find(e_key)\n",
    "    r_s = cont.find(r_key)\n",
    "\n",
    "    fd_e = cont.find('\",\\n', fd_s) + 1\n",
    "    code_e = cont.find('\",\\n', code_s) + 1\n",
    "    com_e = cont.find('\",\\n', com_s) + 1\n",
    "    e_e = cont.find('\",\\n', e_s) + 1\n",
    "    r_e = cont.find('\\n}', r_s)\n",
    "\n",
    "    if not (fd_s < fd_e < code_s < code_e < com_s < com_e < e_s < e_e < r_s < r_e):\n",
    "        # print(fd_s, fd_e, code_s, code_e, com_s, com_e, e_s, e_e, r_s, r_e)\n",
    "        # print(cont)\n",
    "        return False\n",
    "    return True\n",
    "\n",
    "count = 0\n",
    "for v in results.values():\n",
    "    count += prepare_data(v[\"content\"])\n",
    "print(count)"
   ]
  },
  {
   "cell_type": "code",
   "execution_count": null,
   "id": "7c955bb3-19f4-4e80-96e5-9d5f8b7055b4",
   "metadata": {},
   "outputs": [
    {
     "data": {
      "text/plain": [
       "('function_definition',\n",
       " '\"def prepare_visual_for_report(data, title, filename):\"')"
      ]
     },
     "execution_count": null,
     "metadata": {},
     "output_type": "execute_result"
    }
   ],
   "source": [
    "k_v = cont[fd_s:fd_e]\n",
    "split_p = k_v.find(\":\")\n",
    "k, v = k_v[:split_p][1:-1], k_v[split_p+1:].strip()\n",
    "k, v"
   ]
  },
  {
   "cell_type": "code",
   "execution_count": null,
   "id": "688a3d75-0bbe-4703-a33f-7971b00be3fb",
   "metadata": {},
   "outputs": [
    {
     "name": "stdout",
     "output_type": "stream",
     "text": [
      "('function_definition', '\"def prepare_visual_for_report(data, title, filename):\"')\n",
      "('code', '\"\"\"\\n    import matplotlib.pyplot as plt\\n    \\n    # Create a figure and axis\\n    fig, ax = plt.subplots(figsize=(8, 6))\\n    \\n    # Plot the data\\n    ax.plot(data)\\n    \\n    # Set the title and axis labels\\n    ax.set_title(title)\\n    ax.set_xlabel(\\'X\\')\\n    ax.set_ylabel(\\'Y\\')\\n    \\n    # Save the figure to a file\\n    plt.savefig(filename)\\n\"\"\"')\n",
      "('comment', '\"# Create a figure and axis\"')\n",
      "('explanation', '\"The comment is incorrect because it does not accurately describe the purpose of the code. The code is creating a figure and axis, but the comment does not mention the purpose of creating them.\"')\n",
      "('correct', 'false')\n"
     ]
    }
   ],
   "source": [
    "def get_k_v(k_v):\n",
    "    split_p = k_v.find(\":\")\n",
    "    return k_v[:split_p][1:-1], k_v[split_p+1:].strip()\n",
    "\n",
    "print(get_k_v(cont[fd_s:fd_e]))\n",
    "print(get_k_v(cont[code_s:code_e]))\n",
    "print(get_k_v(cont[com_s:com_e]))\n",
    "print(get_k_v(cont[e_s:e_e]))\n",
    "print(get_k_v(cont[r_s:r_e]))"
   ]
  },
  {
   "cell_type": "code",
   "execution_count": null,
   "id": "5bd10dc5-1004-4151-b40b-04cb5add92e7",
   "metadata": {},
   "outputs": [
    {
     "name": "stdout",
     "output_type": "stream",
     "text": [
      "916\n",
      "function_definition\n",
      "\n",
      "def calculate_portfolio_return(portfolio_values: pd.DataFrame) -> pd.Series:\n",
      "    \"\n",
      "\n",
      "code\n",
      "\n",
      "    portfolio_values['daily_return'] = portfolio_values['portfolio_value'].pct_change()\n",
      "    portfolio_values['cumulative_return'] = (1 + portfolio_values['daily_return']).cumprod()\n",
      "    return portfolio_values['cumulative_return']\n",
      "\n",
      "comment\n",
      "\n",
      "# Calculate the daily and cumulative returns for the portfolio\n",
      "\n",
      "explanation\n",
      "\n",
      "The comment accurately describes the purpose of the code, which is to calculate the daily and cumulative returns for a portfolio based on the provided portfolio values.\n",
      "\n",
      "correct\n",
      "True\n",
      "\n"
     ]
    }
   ],
   "source": [
    "fd_key = '\"function_definition\": '\n",
    "code_key = '\"code\": '\n",
    "com_key = '\"comment\": '\n",
    "e_key = '\"explanation\": '\n",
    "r_key = '\"correct\": '\n",
    "\n",
    "check_keys = list(map(lambda x: x[1:-3], [fd_key, code_key, com_key, e_key, r_key]))\n",
    "\n",
    "def prepare_data(example):\n",
    "    if example[\"type\"] != \"succeeded\":\n",
    "        return None\n",
    "    cont = example[\"content\"]\n",
    "    \n",
    "    fd_s = cont.find(fd_key)\n",
    "    code_s = cont.find(code_key)\n",
    "    com_s = cont.find(com_key)\n",
    "    e_s = cont.find(e_key)\n",
    "    r_s = cont.find(r_key)\n",
    "\n",
    "    fd_e = cont.find('\",\\n', fd_s) + 1\n",
    "    code_e = cont.find('\",\\n', code_s) + 1\n",
    "    com_e = cont.find('\",\\n', com_s) + 1\n",
    "    e_e = cont.find('\",\\n', e_s) + 1\n",
    "    r_e = cont.find('\\n}', r_s)\n",
    "\n",
    "    if not (fd_s < fd_e < code_s < code_e < com_s < com_e < e_s < e_e < r_s < r_e):\n",
    "        return None\n",
    "\n",
    "    splits = [cont[fd_s:fd_e], cont[code_s:code_e], cont[com_s:com_e], cont[e_s:e_e], cont[r_s:r_e]]\n",
    "    prepared = {}\n",
    "    for k_v in splits:\n",
    "        split_p = k_v.find(\":\")\n",
    "        k, v = k_v[:split_p][1:-1], k_v[split_p+1:].strip()\n",
    "        # if not k in check_keys:\n",
    "        #     return False\n",
    "        assert k in check_keys\n",
    "\n",
    "        if k == \"correct\":\n",
    "            v = (v == \"true\")\n",
    "        else:\n",
    "            if v[:3] == '\"\"\"':\n",
    "                v = v[3:]\n",
    "            if v[-3:] == '\"\"\"':\n",
    "                v = v[:-3]\n",
    "            v = v.rstrip()\n",
    "        prepared[k] = v\n",
    "\n",
    "    return prepared\n",
    "\n",
    "dataset = []\n",
    "for v in results.values():\n",
    "    prepared = prepare_data(v)\n",
    "    if prepared:\n",
    "        dataset.append(prepared)\n",
    "        \n",
    "print(len(dataset))\n",
    "for k, v in dataset[-1].items():\n",
    "    print(k)\n",
    "    print(v)\n",
    "    print()"
   ]
  },
  {
   "cell_type": "code",
   "execution_count": null,
   "id": "abec51ee-fcfa-4134-b7c8-909e6b952e19",
   "metadata": {},
   "outputs": [
    {
     "name": "stdout",
     "output_type": "stream",
     "text": [
      "475 441\n"
     ]
    }
   ],
   "source": [
    "count = 0\n",
    "for example in dataset:\n",
    "    count += example[\"correct\"]\n",
    "print(count, len(dataset) - count)"
   ]
  },
  {
   "cell_type": "code",
   "execution_count": null,
   "id": "eab8f1b0-e3b5-4c55-b7b3-7c2e5270c35a",
   "metadata": {},
   "outputs": [],
   "source": [
    "with Path(\"prepared_role_domain_1000\").open(\"wb\") as f:\n",
    "    pickle.dump(dataset, f)"
   ]
  },
  {
   "cell_type": "code",
   "execution_count": null,
   "id": "c8088987-6eda-4a59-af35-e9fb8cd28db0",
   "metadata": {},
   "outputs": [
    {
     "name": "stdout",
     "output_type": "stream",
     "text": [
      "{'function_definition': '\"def prepare_visual_for_report(data, title, filename):\"', 'code': \"\\n    import matplotlib.pyplot as plt\\n    \\n    # Create a figure and axis\\n    fig, ax = plt.subplots(figsize=(8, 6))\\n    \\n    # Plot the data\\n    ax.plot(data)\\n    \\n    # Set the title and axis labels\\n    ax.set_title(title)\\n    ax.set_xlabel('X')\\n    ax.set_ylabel('Y')\\n    \\n    # Save the figure to a file\\n    plt.savefig(filename)\", 'comment': '\"# Create a figure and axis\"', 'explanation': '\"The comment is incorrect because it does not accurately describe the purpose of the code. The code is creating a figure and axis, but the comment does not mention the purpose of creating them.\"', 'correct': False}\n"
     ]
    }
   ],
   "source": [
    "with Path(\"prepared_role_domain_1000\").open(\"rb\") as f:\n",
    "    print(pickle.load(f)[0])"
   ]
  },
  {
   "cell_type": "code",
   "execution_count": null,
   "id": "e4153471-ae2e-4f9e-a9ed-81e0b2b1523e",
   "metadata": {},
   "outputs": [],
   "source": []
  }
 ],
 "metadata": {
  "kernelspec": {
   "display_name": "Python 3 (ipykernel)",
   "language": "python",
   "name": "python3"
  },
  "language_info": {
   "codemirror_mode": {
    "name": "ipython",
    "version": 3
   },
   "file_extension": ".py",
   "mimetype": "text/x-python",
   "name": "python",
   "nbconvert_exporter": "python",
   "pygments_lexer": "ipython3"
  }
 },
 "nbformat": 4,
 "nbformat_minor": 5
}
