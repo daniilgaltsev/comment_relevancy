{
 "cells": [
  {
   "cell_type": "code",
   "execution_count": null,
   "id": "6252b67a-56af-41e9-9f95-7c4b06e35b2d",
   "metadata": {},
   "outputs": [],
   "source": [
    "from transformers import AutoModelForCausalLM, AutoTokenizer"
   ]
  },
  {
   "cell_type": "code",
   "execution_count": null,
   "id": "8e59ba46-b767-4fd4-b288-6f61ec55d568",
   "metadata": {},
   "outputs": [],
   "source": [
    "checkpoint = \"HuggingFaceTB/SmolLM2-135M-Instruct\"\n",
    "device = \"cuda\""
   ]
  },
  {
   "cell_type": "code",
   "execution_count": null,
   "id": "54f33172-e341-456c-92a9-322d8eb2d35d",
   "metadata": {},
   "outputs": [],
   "source": [
    "tokenizer = AutoTokenizer.from_pretrained(checkpoint)\n",
    "model = AutoModelForCausalLM.from_pretrained(checkpoint).to(device)"
   ]
  },
  {
   "cell_type": "code",
   "execution_count": null,
   "id": "42bb369c-a03a-4c7c-b3af-b7d245109c87",
   "metadata": {},
   "outputs": [
    {
     "name": "stdout",
     "output_type": "stream",
     "text": [
      "<|im_start|>system\n",
      "You are a question answering systems that gives only silly and short answers.<|im_end|>\n",
      "<|im_start|>user\n",
      "What is gravity?<|im_end|>\n",
      "\n"
     ]
    }
   ],
   "source": [
    "messages = [\n",
    "    {\"role\": \"system\", \"content\": \"You are a question answering systems that gives only silly and short answers.\"},\n",
    "    {\"role\": \"user\", \"content\": \"What is gravity?\"}\n",
    "]\n",
    "input_text = tokenizer.apply_chat_template(messages, tokenize=False)\n",
    "print(input_text)"
   ]
  },
  {
   "cell_type": "code",
   "execution_count": null,
   "id": "a51c1ee2-3906-4103-92ec-30dac34f0b62",
   "metadata": {},
   "outputs": [
    {
     "data": {
      "text/plain": [
       "tensor([[    1,  9690,   198,  2683,   359,   253,  1962, 16522,  1734,   338,\n",
       "          3894,   805, 22933,   284,  1890,  5360,    30,     2,   198,     1,\n",
       "          4093,   198,  1780,   314,  9354,    47,     2,   198]],\n",
       "       device='cuda:0')"
      ]
     },
     "execution_count": null,
     "metadata": {},
     "output_type": "execute_result"
    }
   ],
   "source": [
    "input_tokens = tokenizer.encode(input_text, return_tensors=\"pt\").to(device)\n",
    "input_tokens"
   ]
  },
  {
   "cell_type": "code",
   "execution_count": null,
   "id": "4c6057b5-1aca-4a56-99c5-bd94c88042be",
   "metadata": {},
   "outputs": [
    {
     "data": {
      "text/plain": [
       "tensor([[    1,  9690,   198,  2683,   359,   253,  1962, 16522,  1734,   338,\n",
       "          3894,   805, 22933,   284,  1890,  5360,    30,     2,   198,     1,\n",
       "          4093,   198,  1780,   314,  9354,    47,     2,   198,     1,   520,\n",
       "          9531,   198, 22007,  6463,   314,   253,  3075,   338, 26648,  3401,\n",
       "          2258,   971,   550,    28,  4439,   601,   288,  2332,  2258,   260,\n",
       "          2118,    30,   657,   506,   253,  4959,  1909,   281,  6944,   338,\n",
       "          2311,  3556,  1701,  3401,  1485,   284,  1701,  9354,   314,   732,\n",
       "           357,   314,    30,     2]], device='cuda:0')"
      ]
     },
     "execution_count": null,
     "metadata": {},
     "output_type": "execute_result"
    }
   ],
   "source": [
    "output_tokens = model.generate(input_tokens, max_new_tokens=50, do_sample=False)\n",
    "output_tokens"
   ]
  },
  {
   "cell_type": "code",
   "execution_count": null,
   "id": "72c5f586-a2f7-4ad4-aa09-2fdac3ae6eed",
   "metadata": {},
   "outputs": [
    {
     "name": "stdout",
     "output_type": "stream",
     "text": [
      "<|im_start|>system\n",
      "You are a question answering systems that gives only silly and short answers.<|im_end|>\n",
      "<|im_start|>user\n",
      "What is gravity?<|im_end|>\n",
      "<|im_start|>assistant\n",
      "Gravity is a force that pulls objects towards each other, causing them to fall towards the ground. It's a fundamental concept in physics that helps explain why objects move and why gravity is what it is.<|im_end|>\n"
     ]
    }
   ],
   "source": [
    "output_text = tokenizer.decode(output_tokens[0])\n",
    "print(output_text)"
   ]
  },
  {
   "cell_type": "code",
   "execution_count": null,
   "id": "d5870b8d-26cd-4265-90b4-000ea073c09d",
   "metadata": {},
   "outputs": [],
   "source": [
    "def generate(messages, model=model, tokenizer=tokenizer, **kwargs):\n",
    "    input_tokens = tokenizer.apply_chat_template(messages, return_tensors=\"pt\").to(model.device)\n",
    "    output_tokens = model.generate(input_tokens, **kwargs)\n",
    "    output_text = tokenizer.batch_decode(output_tokens)\n",
    "    return output_text"
   ]
  },
  {
   "cell_type": "code",
   "execution_count": null,
   "id": "cd67b8a9-46c7-4c87-afee-2dabb10c5c8c",
   "metadata": {},
   "outputs": [
    {
     "data": {
      "text/plain": [
       "[\"<|im_start|>system\\nYou are a question answering systems that gives only silly and short answers.<|im_end|>\\n<|im_start|>user\\nWhat is gravity?<|im_end|>\\n<|im_start|>assistant\\nGravity is a force that pulls objects towards each other, causing them to fall towards the ground. It's a fundamental concept in physics that helps explain why objects move and why gravity is what it is.<|im_end|>\"]"
      ]
     },
     "execution_count": null,
     "metadata": {},
     "output_type": "execute_result"
    }
   ],
   "source": [
    "generate(messages, max_new_tokens=50, do_sample=False)"
   ]
  },
  {
   "cell_type": "code",
   "execution_count": null,
   "id": "d098071a-f5b4-4e4a-b7ec-d99c601e9e3b",
   "metadata": {},
   "outputs": [
    {
     "data": {
      "text/plain": [
       "[\"<|im_start|>system\\nYou are a question answering systems that gives only really silly and short answers. The answers have to be silly.<|im_end|>\\n<|im_start|>user\\nWhat is gravity?<|im_end|>\\n<|im_start|>assistant\\nGravity is the force that keeps us from floating away from the Earth. It's a bit like the glue that holds the Earth together, but it's not a force that can be used to move objects. It's a fundamental\"]"
      ]
     },
     "execution_count": null,
     "metadata": {},
     "output_type": "execute_result"
    }
   ],
   "source": [
    "generate(\n",
    "    [\n",
    "        {\"role\": \"system\", \"content\": \"You are a question answering systems that gives only really silly and short answers. The answers have to be silly.\"},\n",
    "        {\"role\": \"user\", \"content\": \"What is gravity?\"}\n",
    "    ],\n",
    "    max_new_tokens=50, do_sample=False\n",
    ")"
   ]
  },
  {
   "cell_type": "code",
   "execution_count": null,
   "id": "0b93b64a-e3b3-4c04-a112-6a072a74a2a8",
   "metadata": {},
   "outputs": [
    {
     "data": {
      "text/plain": [
       "[\"<|im_start|>system\\nYou are a question answering systems that gives only really silly and short answers. The answers have to be silly.<|im_end|>\\n<|im_start|>user\\nWhat is gravity?<|im_end|>\\n<|im_start|>assistant\\nGravity is the force that keeps us from floating away from the Earth. It's a bit like the glue that holds the Earth together, but it's not a force that can be used to move objects. It's a fundamental force that keeps everything in the universe from flying away.<|im_end|>\"]"
      ]
     },
     "execution_count": null,
     "metadata": {},
     "output_type": "execute_result"
    }
   ],
   "source": [
    "generate(\n",
    "    [\n",
    "        {\"role\": \"system\", \"content\": \"You are a question answering systems that gives only really silly and short answers. The answers have to be silly.\"},\n",
    "        {\"role\": \"user\", \"content\": \"What is gravity?\"}\n",
    "    ],\n",
    "    max_new_tokens=500, do_sample=False\n",
    ")"
   ]
  },
  {
   "cell_type": "code",
   "execution_count": null,
   "id": "f86e4893-a01a-4187-a08f-6d2946ba9675",
   "metadata": {},
   "outputs": [],
   "source": []
  },
  {
   "cell_type": "code",
   "execution_count": null,
   "id": "557b37e9-64a6-44d8-9c8c-ab4a74575640",
   "metadata": {},
   "outputs": [],
   "source": [
    "relevant_comment_example =\\\n",
    "\"\"\"\n",
    "Function Definition:\n",
    "'''\n",
    "def _create_rearrange_callable(\n",
    "    tensor_ndim: int, pattern: str, **axes_lengths: int\n",
    ") -> Callable[[torch.Tensor], torch.Tensor]\n",
    "'''\n",
    "\n",
    "Code:\n",
    "'''\n",
    "n_dims = n_named_dims + n_ellipsis_dims + n_anon_dims\n",
    "\n",
    "if n_dims == 0:\n",
    "    # an identity rearrangement on a 0-dimension tensor\n",
    "    return lambda tensor: tensor\n",
    "\n",
    "first_class_dims: Tuple[str, ...] = tuple(f\"d{i}\" for i in range(n_dims))\n",
    "'''\n",
    "\n",
    "Comment:\n",
    "'''\n",
    "# an identity rearrangement on a 0-dimension tensor\n",
    "'''\n",
    "\n",
    "Explanation:\n",
    "'''\n",
    "The comment indicates that for a 0-dimension tensor we have an early return.\n",
    "'''\n",
    "\n",
    "Correct:\n",
    "true\n",
    "\"\"\"\n",
    "\n",
    "irrelevant_comment_example =\\\n",
    "\"\"\"\n",
    "Function Definition:\n",
    "'''\n",
    "def __setstate__(self, state) -> None:\n",
    "'''\n",
    "\n",
    "Code:\n",
    "'''\n",
    "if state[0] is None:\n",
    "    # create a reference from the input state\n",
    "    self.hooks_dict_ref = weakref.ref(OrderedDict())\n",
    "else:\n",
    "    self.hooks_dict_ref = weakref.ref(state[0])\n",
    "self.id = state[1]\n",
    "'''\n",
    "\n",
    "Comment:\n",
    "'''\n",
    "# create a reference from the input state\n",
    "'''\n",
    "\n",
    "Explanation:\n",
    "'''\n",
    "While the comment does talk about creating a reference, the reference is not created from the input state.\n",
    "'''\n",
    "\n",
    "Correct:\n",
    "false\n",
    "\"\"\""
   ]
  },
  {
   "cell_type": "code",
   "execution_count": null,
   "id": "bcdade8c-3715-42f3-86a0-ca61e9a60d75",
   "metadata": {},
   "outputs": [
    {
     "name": "stdout",
     "output_type": "stream",
     "text": [
      "\n",
      "Example of a correct code-comment pair:\n",
      "-----\n",
      "Function Definition:\n",
      "'''\n",
      "def _create_rearrange_callable(\n",
      "    tensor_ndim: int, pattern: str, **axes_lengths: int\n",
      ") -> Callable[[torch.Tensor], torch.Tensor]\n",
      "'''\n",
      "\n",
      "Code:\n",
      "'''\n",
      "n_dims = n_named_dims + n_ellipsis_dims + n_anon_dims\n",
      "\n",
      "if n_dims == 0:\n",
      "    # an identity rearrangement on a 0-dimension tensor\n",
      "    return lambda tensor: tensor\n",
      "\n",
      "first_class_dims: Tuple[str, ...] = tuple(f\"d{i}\" for i in range(n_dims))\n",
      "'''\n",
      "\n",
      "Comment:\n",
      "'''\n",
      "# an identity rearrangement on a 0-dimension tensor\n",
      "'''\n",
      "\n",
      "Explanation:\n",
      "'''\n",
      "The comment indicates that for a 0-dimension tensor we have an early return.\n",
      "'''\n",
      "\n",
      "Correct:\n",
      "true\n",
      "-----\n",
      "\n",
      "Example of an incorrect code-comment pair:\n",
      "-----\n",
      "Function Definition:\n",
      "'''\n",
      "def __setstate__(self, state) -> None:\n",
      "'''\n",
      "\n",
      "Code:\n",
      "'''\n",
      "if state[0] is None:\n",
      "    # create a reference from the input state\n",
      "    self.hooks_dict_ref = weakref.ref(OrderedDict())\n",
      "else:\n",
      "    self.hooks_dict_ref = weakref.ref(state[0])\n",
      "self.id = state[1]\n",
      "'''\n",
      "\n",
      "Comment:\n",
      "'''\n",
      "# create a reference from the input state\n",
      "'''\n",
      "\n",
      "Explanation:\n",
      "'''\n",
      "While the comment does talk about creating a reference, the reference is not created from the input state.\n",
      "'''\n",
      "\n",
      "Correct:\n",
      "false\n",
      "-----\n",
      "\n",
      "You need to generate one new incorrect code-comment pair. The code should be written in Python and it has to be about working with databases. Assume that the code was written by a novice data scientist. Include around 5 to 10 rows of code around the code to give enough context. The comment itself has to be smaller than 3 lines.\n",
      "Generate the output in a json format with keys: \"function_definition\" (string), \"code\" (string), \"comment\" (string), \"explanation\" (string), \"correct\" (bool).\n",
      "\n",
      "OUTPUT:\n",
      "\n"
     ]
    }
   ],
   "source": [
    "prompt =\\\n",
    "\"\"\"\n",
    "Example of a correct code-comment pair:\n",
    "-----{}-----\n",
    "\n",
    "Example of an incorrect code-comment pair:\n",
    "-----{}-----\n",
    "\n",
    "You need to generate one new {} code-comment pair. The code should be written in Python and it has to be about {}. Assume that the code was written by {}. Include around 5 to 10 rows of code around the code to give enough context. The comment itself has to be smaller than 3 lines.\n",
    "Generate the output in a json format with keys: \\\"function_definition\\\" (string), \\\"code\\\" (string), \\\"comment\\\" (string), \\\"explanation\\\" (string), \\\"correct\\\" (bool).\n",
    "\n",
    "OUTPUT:\n",
    "\"\"\"\n",
    "\n",
    "print(prompt.format(relevant_comment_example, irrelevant_comment_example, \"incorrect\", \"working with databases\", \"a novice data scientist\"))"
   ]
  },
  {
   "cell_type": "code",
   "execution_count": null,
   "id": "42789700-f57d-4853-8392-e4198d7c4399",
   "metadata": {},
   "outputs": [],
   "source": [
    "messages = [\n",
    "    {\"role\": \"system\", \"content\": \"You are a system used to generate high-quality synthetic data for a classifier model. The classifier model will be used to determine if a comment in a codebase is correct and relevant.\"},\n",
    "    {\"role\": \"user\", \"content\": prompt}\n",
    "]\n",
    "output = generate(\n",
    "    messages,\n",
    "    max_new_tokens=500, do_sample=False\n",
    ")"
   ]
  },
  {
   "cell_type": "code",
   "execution_count": null,
   "id": "3fdd4f34-8c88-40e4-a010-9b81efe788b0",
   "metadata": {},
   "outputs": [
    {
     "name": "stdout",
     "output_type": "stream",
     "text": [
      "\n",
      "```python\n",
      "def function_definition(name):\n",
      "    \"\"\"\n",
      "    Function definition for the function \"function_definition\".\n",
      "\n",
      "    Args:\n",
      "        name (str): The name of the function.\n",
      "\n",
      "    Returns:\n",
      "        str: The function definition.\n",
      "    \"\"\"\n",
      "    return f\"def {name}():\\n\"\n",
      "\n",
      "def code(name):\n",
      "    \"\"\"\n",
      "    Code for the function \"code\".\n",
      "\n",
      "    Args:\n",
      "        name (str): The name of the function.\n",
      "\n",
      "    Returns:\n",
      "        str: The code.\n",
      "    \"\"\"\n",
      "    return f\"def {name}():\\n\"\n",
      "\n",
      "def comment(name):\n",
      "    \"\"\"\n",
      "    Comment for the function \"comment\".\n",
      "\n",
      "    Args:\n",
      "        name (str): The name of the function.\n",
      "\n",
      "    Returns:\n",
      "        str: The comment.\n",
      "    \"\"\"\n",
      "    return f\"// Comment for the function {name}.\"\n",
      "\n",
      "def explanation(name):\n",
      "    \"\"\"\n",
      "    Explanation for the function \"explanation\".\n",
      "\n",
      "    Args:\n",
      "        name (str): The name of the function.\n",
      "\n",
      "    Returns:\n",
      "        str: The explanation.\n",
      "    \"\"\"\n",
      "    return f\"// Explanation for the function {name}.\"\n",
      "\n",
      "def correct(name):\n",
      "    \"\"\"\n",
      "    Correct for the function \"correct\".\n",
      "\n",
      "    Args:\n",
      "        name (str): The name of the function.\n",
      "\n",
      "    Returns:\n",
      "        bool: True if the function is correct, False otherwise.\n",
      "    \"\"\"\n",
      "    return f\"// Correct for the function {name}.\"\n",
      "\n",
      "def generate_output(code, comment, explanation):\n",
      "    \"\"\"\n",
      "    Generate the output in a json format with keys: \"function_definition\" (string), \"code\" (string), \"comment\" (string), \"explanation\" (string), \"correct\" (bool).\n",
      "\n",
      "    Args:\n",
      "        code (str): The code to generate.\n",
      "        comment (str): The comment to generate.\n",
      "        explanation (str): The explanation to generate.\n",
      "\n",
      "    Returns:\n",
      "        dict: The output in a json format with keys: \"function_definition\" (string), \"code\" (string), \"comment\" (string), \"explanation\" (string), \"correct\" (bool).\n",
      "    \"\"\"\n",
      "    output = {\n",
      "        \"function_definition\": code,\n",
      "        \"code\": comment,\n",
      "        \"comment\": explanation,\n",
      "        \"explanation\": explanation,\n",
      "        \"correct\": correct,\n",
      "    }\n",
      "    return json.dumps(output)\n",
      "\n",
      "def main():\n",
      "    code = \"function_definition()\\n\"\n",
      "    comment =\n"
     ]
    }
   ],
   "source": [
    "answer = output[0]\n",
    "start_string = \"<|im_start|>assistant\"\n",
    "answer = answer[answer.find(start_string) + len(start_string):]\n",
    "print(answer)"
   ]
  },
  {
   "cell_type": "code",
   "execution_count": null,
   "id": "04d87827-2405-4cd0-a7c0-b8869e2cf4ab",
   "metadata": {},
   "outputs": [
    {
     "name": "stdout",
     "output_type": "stream",
     "text": [
      "# fetch data from the database\n",
      "----\n",
      "cursor = connection.cursor()\n",
      "cursor.execute(query)\n",
      "rows = cursor.fetchall()\n",
      "result = []\n",
      "for row in rows:\n",
      "    result.append(row)\n",
      "return result\n",
      "----\n",
      "The comment suggests the function is fetching data, but it doesn't mention that the function also processes the data into a list of dictionaries before returning it.\n"
     ]
    }
   ],
   "source": [
    "# chatgpt 4o mini\n",
    "o4_out = {\n",
    "  \"function_definition\": \"def fetch_data_from_db(query: str) -> List[Dict[str, Any]]:\",\n",
    "  \"code\": \"cursor = connection.cursor()\\ncursor.execute(query)\\nrows = cursor.fetchall()\\nresult = []\\nfor row in rows:\\n    result.append(row)\\nreturn result\",\n",
    "  \"comment\": \"# fetch data from the database\",\n",
    "  \"explanation\": \"The comment suggests the function is fetching data, but it doesn't mention that the function also processes the data into a list of dictionaries before returning it.\",\n",
    "  \"correct\": False\n",
    "}\n",
    "\n",
    "print(o4_out[\"comment\"])\n",
    "print(\"----\")\n",
    "print(o4_out[\"code\"])\n",
    "print(\"----\")\n",
    "print(o4_out[\"explanation\"])"
   ]
  },
  {
   "cell_type": "code",
   "execution_count": null,
   "id": "5a642ccc-aba3-49c0-9f79-29d218635b7b",
   "metadata": {},
   "outputs": [
    {
     "name": "stdout",
     "output_type": "stream",
     "text": [
      "# Update customer information in database\n",
      "----\n",
      "\n",
      "def update_customer_records(db_connection: sqlite3.Connection, customer_data: List[Dict]) -> None:\n",
      "    cursor = db_connection.cursor()\n",
      "    # Update customer information in database\n",
      "    for customer in customer_data:\n",
      "        query = f\"UPDATE customers SET email = '{customer['email']}' WHERE id = {customer['id']}\"\n",
      "        cursor.execute(query)\n",
      "    \n",
      "    db_connection.commit()\n",
      "    cursor.close()\n",
      "\n",
      "----\n",
      "The comment is incorrect because it's too vague and misses the critical security issue - the code is vulnerable to SQL injection attacks by directly formatting strings into the query. The comment should warn about this security risk rather than just stating the obvious action being performed.\n"
     ]
    }
   ],
   "source": [
    "# cluade 3.5 sonnet\n",
    "claude_35_out = {\n",
    "    \"function_definition\": \"def update_customer_records(db_connection: sqlite3.Connection, customer_data: List[Dict]) -> None:\",\n",
    "    \"code\": \"\"\"\n",
    "def update_customer_records(db_connection: sqlite3.Connection, customer_data: List[Dict]) -> None:\n",
    "    cursor = db_connection.cursor()\n",
    "    # Update customer information in database\n",
    "    for customer in customer_data:\n",
    "        query = f\"UPDATE customers SET email = '{customer['email']}' WHERE id = {customer['id']}\"\n",
    "        cursor.execute(query)\n",
    "    \n",
    "    db_connection.commit()\n",
    "    cursor.close()\n",
    "\"\"\",\n",
    "    \"comment\": \"# Update customer information in database\",\n",
    "    \"explanation\": \"The comment is incorrect because it's too vague and misses the critical security issue - the code is vulnerable to SQL injection attacks by directly formatting strings into the query. The comment should warn about this security risk rather than just stating the obvious action being performed.\",\n",
    "    \"correct\": False\n",
    "}\n",
    "print(claude_35_out[\"comment\"])\n",
    "print(\"----\")\n",
    "print(claude_35_out[\"code\"])\n",
    "print(\"----\")\n",
    "print(claude_35_out[\"explanation\"])"
   ]
  },
  {
   "cell_type": "code",
   "execution_count": null,
   "id": "75f23468-3221-4791-8d4f-772ed224cea6",
   "metadata": {},
   "outputs": [
    {
     "name": "stdout",
     "output_type": "stream",
     "text": [
      "\n",
      "```python\n",
      "def function_definition(name):\n",
      "    \"\"\"\n",
      "    This function defines a function with the name \"function_definition\".\n",
      "\n",
      "    Args:\n",
      "        name (str): The name of the function.\n",
      "\n",
      "    Returns:\n",
      "        str: The function definition.\n",
      "\n",
      "    Raises:\n",
      "        ValueError: If the name is not a string.\n",
      "    \"\"\"\n",
      "    return f\"This function defines a function with the name '{name}'.\"\n",
      "\n",
      "def code(name):\n",
      "    \"\"\"\n",
      "    This function defines a function with the name \"code\".\n",
      "\n",
      "    Args:\n",
      "        name (str): The name of the function.\n",
      "\n",
      "    Returns:\n",
      "        str: The function definition.\n",
      "\n",
      "    Raises:\n",
      "        ValueError: If the name is not a string.\n",
      "    \"\"\"\n",
      "    return f\"This function defines a function with the name '{name}'.\"\n",
      "\n",
      "def comment(name):\n",
      "    \"\"\"\n",
      "    This function defines a comment with the name \"comment\".\n",
      "\n",
      "    Args:\n",
      "        name (str): The name of the comment.\n",
      "\n",
      "    Returns:\n",
      "        str: The comment.\n",
      "\n",
      "    Raises:\n",
      "        ValueError: If the name is not a string.\n",
      "    \"\"\"\n",
      "    return f\"This function defines a comment with the name '{name}'.\"\n",
      "\n",
      "def explanation(name):\n",
      "    \"\"\"\n",
      "    This function defines an explanation with the name \"explanation\".\n",
      "\n",
      "    Args:\n",
      "        name (str): The name of the explanation.\n",
      "\n",
      "    Returns:\n",
      "        str: The explanation.\n",
      "\n",
      "    Raises:\n",
      "        ValueError: If the name is not a string.\n",
      "    \"\"\"\n",
      "    return f\"This function defines an explanation with the name '{name}'.\"\n",
      "\n",
      "def correct(name, comment):\n",
      "    \"\"\"\n",
      "    This function determines if a comment in a codebase is correct and relevant.\n",
      "\n",
      "    Args:\n",
      "        name (str): The name of the comment.\n",
      "        comment (str): The comment.\n",
      "\n",
      "    Returns:\n",
      "        bool: True if the comment is correct and relevant, False otherwise.\n",
      "    \"\"\"\n",
      "    return f\"This function determines if a comment in a codebase is correct and relevant. {name} is correct and {comment} is relevant.\"\n",
      "\n",
      "def generate_output(function_definition, code, comment, explanation):\n",
      "    \"\"\"\n",
      "    This function generates a new {} code-comment pair based on the input arguments.\n",
      "\n",
      "    Args:\n",
      "        function_definition (str): The function definition.\n",
      "        code (str): The code.\n",
      "        comment (str): The comment.\n",
      "        explanation (str): The explanation.\n",
      "\n",
      "    Returns:\n",
      "        dict: A dictionary with the\n"
     ]
    }
   ],
   "source": [
    "messages = [\n",
    "    {\"role\": \"system\", \"content\":\n",
    "     (\n",
    "         \"You are a system used to generate high-quality synthetic data for a classifier model .\"\n",
    "         \"The classifier model will be used to determine if a comment in a codebase is correct and relevant. Your task is \"\n",
    "         \"to generate data samples based on the user prompt taking into account the examples above. Make sure that the output in concise.\"\n",
    "     )\n",
    "     },\n",
    "    {\"role\": \"user\", \"content\": prompt}\n",
    "]\n",
    "output = generate(\n",
    "    messages,\n",
    "    max_new_tokens=500,\n",
    "    do_sample=True, temperature=0.3, top_p=0.8\n",
    ")\n",
    "\n",
    "answer = output[0]\n",
    "start_string = \"<|im_start|>assistant\"\n",
    "answer = answer[answer.find(start_string) + len(start_string):]\n",
    "print(answer)"
   ]
  },
  {
   "cell_type": "code",
   "execution_count": null,
   "id": "ae58899a-bbee-4376-afa3-e6bbc49c783c",
   "metadata": {},
   "outputs": [],
   "source": []
  }
 ],
 "metadata": {
  "kernelspec": {
   "display_name": "Python 3 (ipykernel)",
   "language": "python",
   "name": "python3"
  },
  "language_info": {
   "codemirror_mode": {
    "name": "ipython",
    "version": 3
   },
   "file_extension": ".py",
   "mimetype": "text/x-python",
   "name": "python",
   "nbconvert_exporter": "python",
   "pygments_lexer": "ipython3"
  }
 },
 "nbformat": 4,
 "nbformat_minor": 5
}
