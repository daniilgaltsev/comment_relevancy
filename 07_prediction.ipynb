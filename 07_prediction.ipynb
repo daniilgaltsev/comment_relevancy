{
 "cells": [
  {
   "cell_type": "code",
   "execution_count": null,
   "id": "af41363e-a2c3-49fd-85f3-9d648742c321",
   "metadata": {},
   "outputs": [],
   "source": [
    "from pathlib import Path\n",
    "import pickle\n",
    "\n",
    "import datasets\n",
    "import evaluate\n",
    "import numpy as np\n",
    "import torch\n",
    "from torch import nn\n",
    "from transformers import AutoTokenizer, AutoModelForSequenceClassification, DataCollatorWithPadding, Trainer, TrainingArguments"
   ]
  },
  {
   "cell_type": "code",
   "execution_count": null,
   "id": "ef2f620e-7523-4871-b5a0-4de0d9682862",
   "metadata": {},
   "outputs": [],
   "source": [
    "model_id = \"answerdotai/ModernBERT-base\"\n",
    "tokenizer = AutoTokenizer.from_pretrained(model_id)"
   ]
  },
  {
   "cell_type": "code",
   "execution_count": null,
   "id": "31801060-9db4-440c-bf96-381f53ca8cce",
   "metadata": {},
   "outputs": [],
   "source": [
    "model = AutoModelForSequenceClassification.from_pretrained(\"finetuned\")"
   ]
  },
  {
   "cell_type": "code",
   "execution_count": null,
   "id": "b77a469d-033b-467d-ab28-c6e3301ce2e0",
   "metadata": {},
   "outputs": [],
   "source": [
    "sep = \"[SEP]\"\n",
    "\n",
    "def prepare_input(example):\n",
    "    tokens = tokenizer(\n",
    "        example[\"function_definition\"] + sep + example[\"code\"] + sep + example[\"comment\"],\n",
    "        truncation=True,\n",
    "        max_length=1024,\n",
    "        return_tensors=\"pt\"\n",
    "    )\n",
    "    return tokens"
   ]
  },
  {
   "cell_type": "code",
   "execution_count": null,
   "id": "b03c2fe4-9632-48b1-b488-913dfdedc480",
   "metadata": {},
   "outputs": [
    {
     "name": "stdout",
     "output_type": "stream",
     "text": [
      "{'function_definition': 'def _create_rearrange_callable(\\n    tensor_ndim: int, pattern: str, **axes_lengths: int\\n) -> Callable[[torch.Tensor], torch.Tensor]', 'code': '    n_dims = n_named_dims + n_ellipsis_dims + n_anon_dims\\n    \\n    if n_dims == 0:\\n        # an identity rearrangement on a 0-dimension tensor\\n        return lambda tensor: tensor\\n    \\n    first_class_dims: Tuple[str, ...] = tuple(f\"d{i}\" for i in range(n_dims))', 'comment': '# an identity rearrangement on a 0-dimension tensor'}\n"
     ]
    }
   ],
   "source": [
    "example_fd = \"\"\"def _create_rearrange_callable(\n",
    "    tensor_ndim: int, pattern: str, **axes_lengths: int\n",
    ") -> Callable[[torch.Tensor], torch.Tensor]\"\"\"\n",
    "example_code = \"\"\"    n_dims = n_named_dims + n_ellipsis_dims + n_anon_dims\n",
    "    \n",
    "    if n_dims == 0:\n",
    "        # an identity rearrangement on a 0-dimension tensor\n",
    "        return lambda tensor: tensor\n",
    "    \n",
    "    first_class_dims: Tuple[str, ...] = tuple(f\"d{i}\" for i in range(n_dims))\"\"\"\n",
    "example_com = \"# an identity rearrangement on a 0-dimension tensor\"\n",
    "example = {\n",
    "    \"function_definition\": example_fd,\n",
    "    \"code\": example_code,\n",
    "    \"comment\": example_com\n",
    "}\n",
    "print(example)"
   ]
  },
  {
   "cell_type": "code",
   "execution_count": null,
   "id": "cac39590-92d4-4a74-9132-6d57bbd27528",
   "metadata": {},
   "outputs": [
    {
     "name": "stdout",
     "output_type": "stream",
     "text": [
      "{'input_ids': tensor([[50281,  1545,   795,  6953,    64,   250,  3298,   912,    64,  4065,\n",
      "           494,     9,   187, 50274, 26109,    64,  2109,   303,    27,   540,\n",
      "            13,  3102,    27,  1213,    13,  1401, 44832,    64,  3985,    84,\n",
      "            27,   540,   187,    10,  5204,  9368,   494, 14598, 13473,   348,\n",
      "            15, 39596,  1092, 30162,    15, 39596,    62, 50282, 50274,    79,\n",
      "            64,  4528,    84,   426,   295,    64, 19389,    64,  4528,    84,\n",
      "           559,   295,    64,   437,  2824,   261,    64,  4528,    84,   559,\n",
      "           295,    64, 46339,    64,  4528,    84,   187, 50274,   187, 50274,\n",
      "           338,   295,    64,  4528,    84,  2295,   470,    27,   187, 50270,\n",
      "             4,   271,  6489, 47410,   327,   247,   470,    14, 39120, 13148,\n",
      "           187, 50270,  2309, 29331, 13148,    27, 13148,   187, 50274,   187,\n",
      "         50274,  7053,    64,  2437,    64,  4528,    84,    27,   308, 13932,\n",
      "            60,  1344,    13,  3346,    62,   426, 31343,     9,    71,     3,\n",
      "            69,    92,    74, 13272,   323,   891,   275,  2491,     9,    79,\n",
      "            64,  4528,    84,  1228, 50282,     4,   271,  6489, 47410,   327,\n",
      "           247,   470,    14, 39120, 13148, 50282]]), 'attention_mask': tensor([[1, 1, 1, 1, 1, 1, 1, 1, 1, 1, 1, 1, 1, 1, 1, 1, 1, 1, 1, 1, 1, 1, 1, 1,\n",
      "         1, 1, 1, 1, 1, 1, 1, 1, 1, 1, 1, 1, 1, 1, 1, 1, 1, 1, 1, 1, 1, 1, 1, 1,\n",
      "         1, 1, 1, 1, 1, 1, 1, 1, 1, 1, 1, 1, 1, 1, 1, 1, 1, 1, 1, 1, 1, 1, 1, 1,\n",
      "         1, 1, 1, 1, 1, 1, 1, 1, 1, 1, 1, 1, 1, 1, 1, 1, 1, 1, 1, 1, 1, 1, 1, 1,\n",
      "         1, 1, 1, 1, 1, 1, 1, 1, 1, 1, 1, 1, 1, 1, 1, 1, 1, 1, 1, 1, 1, 1, 1, 1,\n",
      "         1, 1, 1, 1, 1, 1, 1, 1, 1, 1, 1, 1, 1, 1, 1, 1, 1, 1, 1, 1, 1, 1, 1, 1,\n",
      "         1, 1, 1, 1, 1, 1, 1, 1, 1, 1, 1, 1]])}\n"
     ]
    }
   ],
   "source": [
    "inp = prepare_input(example)\n",
    "print(inp)"
   ]
  },
  {
   "cell_type": "code",
   "execution_count": null,
   "id": "45222249-61ad-4422-8bc0-b5cca4064619",
   "metadata": {},
   "outputs": [
    {
     "data": {
      "text/plain": [
       "SequenceClassifierOutput(loss=None, logits=tensor([[-3.5259,  2.5648]]), hidden_states=None, attentions=None)"
      ]
     },
     "execution_count": null,
     "metadata": {},
     "output_type": "execute_result"
    }
   ],
   "source": [
    "with torch.no_grad():\n",
    "    out = model(**inp)\n",
    "out"
   ]
  },
  {
   "cell_type": "code",
   "execution_count": null,
   "id": "fe000d7b-4783-46e3-9a13-5274c59c71e8",
   "metadata": {},
   "outputs": [
    {
     "data": {
      "text/plain": [
       "tensor(1)"
      ]
     },
     "execution_count": null,
     "metadata": {},
     "output_type": "execute_result"
    }
   ],
   "source": [
    "out.logits.argmax()"
   ]
  },
  {
   "cell_type": "code",
   "execution_count": null,
   "id": "79dd57b7-bdb7-4b2a-a800-e4db4b9a79cf",
   "metadata": {},
   "outputs": [],
   "source": [
    "def predict(inp, model=model):\n",
    "    with torch.no_grad():\n",
    "        out = model(**inp)\n",
    "    return out.logits"
   ]
  },
  {
   "cell_type": "code",
   "execution_count": null,
   "id": "c7408420-c7f7-4104-9ff9-5b265f862258",
   "metadata": {},
   "outputs": [],
   "source": []
  },
  {
   "cell_type": "code",
   "execution_count": null,
   "id": "c8f49422-f955-4d68-a594-0ef8a270aea2",
   "metadata": {},
   "outputs": [],
   "source": []
  },
  {
   "cell_type": "code",
   "execution_count": null,
   "id": "29972204-b5ab-4d1f-98e8-55749243f11a",
   "metadata": {},
   "outputs": [
    {
     "data": {
      "text/plain": [
       "57"
      ]
     },
     "execution_count": null,
     "metadata": {},
     "output_type": "execute_result"
    }
   ],
   "source": [
    "contents = Path(\"example.py\").open(\"r\").readlines()\n",
    "len(contents)"
   ]
  },
  {
   "cell_type": "code",
   "execution_count": null,
   "id": "b3aa4abe-034a-47fb-9c26-74c5c5b8fdca",
   "metadata": {},
   "outputs": [
    {
     "name": "stdout",
     "output_type": "stream",
     "text": [
      "4\n",
      "0 ---------------\n",
      "function_definition\n",
      "        def inner(*args: _P.args, **kwargs: _P.kwargs) -> _T:\n",
      "\n",
      "code\n",
      "    if fn is not None:\n",
      "\n",
      "        @functools.wraps(fn)\n",
      "        def inner(*args: _P.args, **kwargs: _P.kwargs) -> _T:\n",
      "            # cache this on the first invocation to avoid adding too much overhead.\n",
      "            disable_fn = getattr(fn, \"__dynamo_disable\", None)\n",
      "            if disable_fn is None:\n",
      "\n",
      "comment\n",
      "            # cache this on the first invocation to avoid adding too much overhead.\n",
      "\n",
      "1 ---------------\n",
      "function_definition\n",
      "        def inner(*args: _P.args, **kwargs: _P.kwargs) -> _T:\n",
      "\n",
      "code\n",
      "            if disable_fn is None:\n",
      "                import torch._dynamo\n",
      "\n",
      "                disable_fn = torch._dynamo.disable(fn, recursive)\n",
      "                fn.__dynamo_disable = disable_fn  # type: ignore[attr-defined]\n",
      "\n",
      "            return disable_fn(*args, **kwargs)\n",
      "\n",
      "comment\n",
      "                fn.__dynamo_disable = disable_fn  # type: ignore[attr-defined]\n",
      "\n",
      "2 ---------------\n",
      "function_definition\n",
      "        def inner(*args: _P.args, **kwargs: _P.kwargs) -> _T:\n",
      "\n",
      "code\n",
      "            return disable_fn(*args, **kwargs)\n",
      "\n",
      "        return inner\n",
      "    else:\n",
      "        # decorator usage like @_disable_dynamo(recursive=False). The resulting\n",
      "        # object expects the original decorated function as the arg.\n",
      "        return functools.partial(_disable_dynamo, recursive=recursive)\n",
      "\n",
      "comment\n",
      "        # decorator usage like @_disable_dynamo(recursive=False). The resulting\n",
      "\n",
      "3 ---------------\n",
      "function_definition\n",
      "        def inner(*args: _P.args, **kwargs: _P.kwargs) -> _T:\n",
      "\n",
      "code\n",
      "\n",
      "        return inner\n",
      "    else:\n",
      "        # decorator usage like @_disable_dynamo(recursive=False). The resulting\n",
      "        # object expects the original decorated function as the arg.\n",
      "        return functools.partial(_disable_dynamo, recursive=recursive)\n",
      "\n",
      "comment\n",
      "        # object expects the original decorated function as the arg.\n",
      "\n"
     ]
    }
   ],
   "source": [
    "inputs = []\n",
    "last_def = -1\n",
    "for i, l in enumerate(contents):\n",
    "    if l.find(\"def \") != -1:\n",
    "        last_def = i\n",
    "    if l.find(\"#\") != -1:\n",
    "        comment = l\n",
    "        fdef = \"None\"\n",
    "        if last_def != -1:\n",
    "            fdef = contents[last_def]\n",
    "        code = ''.join(contents[i-4:i+3])\n",
    "        inputs.append({\n",
    "            \"function_definition\": fdef,\n",
    "            \"code\": code,\n",
    "            \"comment\": comment\n",
    "        })\n",
    "print(len(inputs))\n",
    "for idx, i in enumerate(inputs):\n",
    "    print(idx, \"---------------\")\n",
    "    for k, v in i.items():\n",
    "        print(k)\n",
    "        print(v)\n",
    "        "
   ]
  },
  {
   "cell_type": "code",
   "execution_count": null,
   "id": "6fea4ca9-f739-435a-b3df-3dd8617b3bf1",
   "metadata": {},
   "outputs": [],
   "source": [
    "prep_inp = list(map(prepare_input, inputs))"
   ]
  },
  {
   "cell_type": "code",
   "execution_count": null,
   "id": "c3274321-65ee-45c1-8004-de038e64d319",
   "metadata": {},
   "outputs": [
    {
     "name": "stdout",
     "output_type": "stream",
     "text": [
      "tensor([[-3.9032,  1.5109]])\n",
      "tensor([[-4.5503,  2.1453]])\n",
      "tensor([[-1.2684,  1.1635]])\n",
      "tensor([[-2.0355,  0.6928]])\n"
     ]
    }
   ],
   "source": [
    "for i in prep_inp:\n",
    "    print(predict(i))"
   ]
  },
  {
   "cell_type": "code",
   "execution_count": null,
   "id": "8b315246-25f5-47d7-b080-08cf5907b486",
   "metadata": {},
   "outputs": [
    {
     "data": {
      "text/plain": [
       "tensor([[0.0613, 0.9387]])"
      ]
     },
     "execution_count": null,
     "metadata": {},
     "output_type": "execute_result"
    }
   ],
   "source": [
    "logits = predict(i)\n",
    "probs = nn.functional.softmax(logits, dim=-1)\n",
    "probs"
   ]
  },
  {
   "cell_type": "code",
   "execution_count": null,
   "id": "f75123be-74d9-4ad4-9cee-648e02c491a9",
   "metadata": {},
   "outputs": [
    {
     "data": {
      "text/plain": [
       "tensor(0.9387)"
      ]
     },
     "execution_count": null,
     "metadata": {},
     "output_type": "execute_result"
    }
   ],
   "source": [
    "probs[0, 1]"
   ]
  },
  {
   "cell_type": "code",
   "execution_count": null,
   "id": "c3a602b9-b89f-4081-85d4-bd09239c0c8b",
   "metadata": {},
   "outputs": [],
   "source": []
  },
  {
   "cell_type": "code",
   "execution_count": null,
   "id": "67b7c27a-f149-4b62-b5df-899392a84c5f",
   "metadata": {},
   "outputs": [],
   "source": [
    "def predict(inp, model=model):\n",
    "    with torch.no_grad():\n",
    "        out = model(**inp)\n",
    "    return nn.functional.softmax(out.logits, dim=-1)[0, 1].item()"
   ]
  },
  {
   "cell_type": "code",
   "execution_count": null,
   "id": "cc28b36f-d3c7-4af0-abef-8e468e4047db",
   "metadata": {},
   "outputs": [
    {
     "data": {
      "text/plain": [
       "0.9386754035949707"
      ]
     },
     "execution_count": null,
     "metadata": {},
     "output_type": "execute_result"
    }
   ],
   "source": [
    "predict(i)"
   ]
  },
  {
   "cell_type": "code",
   "execution_count": null,
   "id": "95cfb5b7-c859-4f49-ab2d-b2c7025f1ad6",
   "metadata": {},
   "outputs": [],
   "source": [
    "import ast"
   ]
  },
  {
   "cell_type": "code",
   "execution_count": null,
   "id": "18d98d5f-9d04-475a-9aa8-b73a63eb93ba",
   "metadata": {},
   "outputs": [],
   "source": [
    "tree = ast.parse(Path(\"example.py\").open(\"r\").read())"
   ]
  },
  {
   "cell_type": "code",
   "execution_count": null,
   "id": "b58cb33d-7e26-4781-9a93-23c73bc0ab89",
   "metadata": {},
   "outputs": [
    {
     "data": {
      "text/plain": [
       "[<ast.Expr at 0x7f67e02dbfa0>,\n",
       " <ast.Import at 0x7f67e02dbf40>,\n",
       " <ast.ImportFrom at 0x7f67e02dbee0>,\n",
       " <ast.ImportFrom at 0x7f67e02dbd60>,\n",
       " <ast.Assign at 0x7f67e02dbd00>,\n",
       " <ast.Assign at 0x7f67e02dbc10>,\n",
       " <ast.FunctionDef at 0x7f67e02dbb20>,\n",
       " <ast.FunctionDef at 0x7f67e02db790>,\n",
       " <ast.FunctionDef at 0x7f67e02da7d0>]"
      ]
     },
     "execution_count": null,
     "metadata": {},
     "output_type": "execute_result"
    }
   ],
   "source": [
    "tree.body"
   ]
  },
  {
   "cell_type": "code",
   "execution_count": null,
   "id": "0166a188-bad6-4069-b4c5-8550debd84a7",
   "metadata": {},
   "outputs": [],
   "source": []
  },
  {
   "cell_type": "code",
   "execution_count": null,
   "id": "7b928dab-19b0-400d-9b65-7fa89bda5c2d",
   "metadata": {},
   "outputs": [
    {
     "data": {
      "text/plain": [
       "(16, 18, 0, 26)"
      ]
     },
     "execution_count": null,
     "metadata": {},
     "output_type": "execute_result"
    }
   ],
   "source": [
    "tree.body[-3].lineno, tree.body[-3].end_lineno, tree.body[-3].col_offset, tree.body[-3].end_col_offset"
   ]
  },
  {
   "cell_type": "code",
   "execution_count": null,
   "id": "e2423adf-fe7a-4b91-bbf9-3221f65646dd",
   "metadata": {},
   "outputs": [
    {
     "data": {
      "text/plain": [
       "'    fn: Callable[_P, _T], recursive: bool = True\\n) -> Callable[_P, _T]: ...\\n'"
      ]
     },
     "execution_count": null,
     "metadata": {},
     "output_type": "execute_result"
    }
   ],
   "source": [
    "''.join(contents[16:18])"
   ]
  },
  {
   "cell_type": "code",
   "execution_count": null,
   "id": "71d88686-b1ae-4981-b94c-61280b480abf",
   "metadata": {},
   "outputs": [
    {
     "data": {
      "text/plain": [
       "'def _disable_dynamo(\\n    fn: Callable[_P, _T], recursive: bool = True\\n) -> Callable[_P, _T]: ...'"
      ]
     },
     "execution_count": null,
     "metadata": {},
     "output_type": "execute_result"
    }
   ],
   "source": [
    "''.join(contents[15:18]).strip()"
   ]
  },
  {
   "cell_type": "code",
   "execution_count": null,
   "id": "081c2448-2f80-4945-ad73-7ed304498566",
   "metadata": {},
   "outputs": [
    {
     "data": {
      "text/plain": [
       "[<ast.FunctionDef at 0x7f67e02dae90>]"
      ]
     },
     "execution_count": null,
     "metadata": {},
     "output_type": "execute_result"
    }
   ],
   "source": [
    "tree2 = ast.parse(\"def hello(a):\\n    a += a\\n    return a\")\n",
    "tree2.body"
   ]
  },
  {
   "cell_type": "code",
   "execution_count": null,
   "id": "c2761c85-2e3e-407f-adbc-3ec4f316e2ea",
   "metadata": {},
   "outputs": [
    {
     "data": {
      "text/plain": [
       "('hello', 1, 4)"
      ]
     },
     "execution_count": null,
     "metadata": {},
     "output_type": "execute_result"
    }
   ],
   "source": [
    "tree2.body[0].name, tree2.body[0].lineno, tree.body[0].end_lineno"
   ]
  },
  {
   "cell_type": "code",
   "execution_count": null,
   "id": "cd50e737-278b-45f0-8ae9-e61fc736c535",
   "metadata": {},
   "outputs": [
    {
     "name": "stdout",
     "output_type": "stream",
     "text": [
      "<ast.FunctionDef object at 0x7f67e02afb20>\n",
      "def _disable_dynamo(\n",
      "    fn: Callable[_P, _T], recursive: bool = True\n",
      ") -> Callable[_P, _T]: ...\n",
      "\n",
      "<ast.FunctionDef object at 0x7f67e02af790>\n",
      "def _disable_dynamo(\n",
      "    fn: Literal[None] = None, recursive: bool = True\n",
      ") -> Callable[[Callable[_P, _T]], Callable[_P, _T]]: ...\n",
      "\n",
      "<ast.FunctionDef object at 0x7f67e02af280>\n",
      "def _disable_dynamo(\n",
      "    fn: Optional[Callable[_P, _T]] = None, recursive: bool = True\n",
      ") -> Union[Callable[_P, _T], Callable[[Callable[_P, _T]], Callable[_P, _T]]]:\n",
      "\n"
     ]
    }
   ],
   "source": [
    "for i in tree.body:\n",
    "    if isinstance(i, ast.FunctionDef):\n",
    "        print(i)\n",
    "        lineno = i.lineno - 1\n",
    "        while lineno <= i.end_lineno - 1:\n",
    "            if contents[lineno].find(\"):\") != -1 or contents[lineno].find(\"->\") != -1:\n",
    "                print(''.join(contents[i.lineno - 1:lineno+1]))\n",
    "                break\n",
    "            lineno += 1"
   ]
  },
  {
   "cell_type": "code",
   "execution_count": null,
   "id": "93d895c8-9c67-4b2f-9246-2ed307e8e6c8",
   "metadata": {},
   "outputs": [
    {
     "data": {
      "text/plain": [
       "(27, 57, 0, 70)"
      ]
     },
     "execution_count": null,
     "metadata": {},
     "output_type": "execute_result"
    }
   ],
   "source": [
    "tree.body[-1].lineno, tree.body[-1].end_lineno, tree.body[-1].col_offset, tree.body[-1].end_col_offset"
   ]
  },
  {
   "cell_type": "code",
   "execution_count": null,
   "id": "ca49d003-7a15-4773-9a37-402e5a49c214",
   "metadata": {},
   "outputs": [],
   "source": [
    "def parse_text(text):\n",
    "    # NOTE: Doesn't collect comments and function definitions correctly\n",
    "    inputs = []\n",
    "    defs = []\n",
    "    tree = ast.parse(text)\n",
    "    for el in tree.body:\n",
    "        if isinstance(el, ast.FunctionDef):\n",
    "            defs.append((el.lineno - 1, el.end_lineno - 1, el.col_offset))\n",
    "\n",
    "    inputs = []\n",
    "    lines = text.split('\\n')\n",
    "    for lineno, line in enumerate(lines):\n",
    "        if (offset := line.find('#')) != -1:\n",
    "            corresponding_def = None\n",
    "            for (def_l, def_el, def_off) in defs:\n",
    "                if def_l <= lineno and def_off <= offset:\n",
    "                    corresponding_def = (def_l, def_el, def_off)\n",
    "\n",
    "            comment = line[offset:]\n",
    "            code = '\\n'.join(lines[lineno - 4:lineno + 4])\n",
    "            fdef = \"None\"\n",
    "            if corresponding_def is not None:\n",
    "                fdef = [lines[corresponding_def[0]][corresponding_def[2]:]]\n",
    "                cur_lineno = corresponding_def[0]\n",
    "                while cur_lineno <= corresponding_def[1]:\n",
    "                    if lines[cur_lineno].find(\"):\") != -1 or lines[cur_lineno].find(\"->\") != -1:\n",
    "                        fdef += lines[corresponding_def[0] + 1:cur_lineno + 1]\n",
    "                        break\n",
    "                    cur_lineno += 1\n",
    "                \n",
    "                fdef = '\\n'.join(fdef).strip()\n",
    "                    \n",
    "            inputs.append({\n",
    "                \"function_definition\": fdef,\n",
    "                \"code\": code,\n",
    "                \"comment\": comment,\n",
    "                \"lineno\": lineno\n",
    "            })\n",
    "    return inputs"
   ]
  },
  {
   "cell_type": "code",
   "execution_count": null,
   "id": "66835f00-7e49-4564-94ef-a96343ce5314",
   "metadata": {},
   "outputs": [
    {
     "name": "stdout",
     "output_type": "stream",
     "text": [
      "4\n",
      "0 ---------------\n",
      "function_definition\n",
      "def _disable_dynamo(\n",
      "    fn: Optional[Callable[_P, _T]] = None, recursive: bool = True\n",
      "\n",
      ") -> Union[Callable[_P, _T], Callable[[Callable[_P, _T]], Callable[_P, _T]]]:\n",
      "code\n",
      "    if fn is not None:\n",
      "\n",
      "        @functools.wraps(fn)\n",
      "        def inner(*args: _P.args, **kwargs: _P.kwargs) -> _T:\n",
      "            # cache this on the first invocation to avoid adding too much overhead.\n",
      "            disable_fn = getattr(fn, \"__dynamo_disable\", None)\n",
      "            if disable_fn is None:\n",
      "                import torch._dynamo\n",
      "comment\n",
      "# cache this on the first invocation to avoid adding too much overhead.\n",
      "lineno\n",
      "42\n",
      "1 ---------------\n",
      "function_definition\n",
      "def _disable_dynamo(\n",
      "    fn: Optional[Callable[_P, _T]] = None, recursive: bool = True\n",
      "\n",
      ") -> Union[Callable[_P, _T], Callable[[Callable[_P, _T]], Callable[_P, _T]]]:\n",
      "code\n",
      "            if disable_fn is None:\n",
      "                import torch._dynamo\n",
      "\n",
      "                disable_fn = torch._dynamo.disable(fn, recursive)\n",
      "                fn.__dynamo_disable = disable_fn  # type: ignore[attr-defined]\n",
      "\n",
      "            return disable_fn(*args, **kwargs)\n",
      "\n",
      "comment\n",
      "# type: ignore[attr-defined]\n",
      "lineno\n",
      "48\n",
      "2 ---------------\n",
      "function_definition\n",
      "def _disable_dynamo(\n",
      "    fn: Optional[Callable[_P, _T]] = None, recursive: bool = True\n",
      "\n",
      ") -> Union[Callable[_P, _T], Callable[[Callable[_P, _T]], Callable[_P, _T]]]:\n",
      "code\n",
      "            return disable_fn(*args, **kwargs)\n",
      "\n",
      "        return inner\n",
      "    else:\n",
      "        # decorator usage like @_disable_dynamo(recursive=False). The resulting\n",
      "        # object expects the original decorated function as the arg.\n",
      "        return functools.partial(_disable_dynamo, recursive=recursive)\n",
      "\n",
      "comment\n",
      "# decorator usage like @_disable_dynamo(recursive=False). The resulting\n",
      "lineno\n",
      "54\n",
      "3 ---------------\n",
      "function_definition\n",
      "def _disable_dynamo(\n",
      "    fn: Optional[Callable[_P, _T]] = None, recursive: bool = True\n",
      "\n",
      ") -> Union[Callable[_P, _T], Callable[[Callable[_P, _T]], Callable[_P, _T]]]:\n",
      "code\n",
      "\n",
      "        return inner\n",
      "    else:\n",
      "        # decorator usage like @_disable_dynamo(recursive=False). The resulting\n",
      "        # object expects the original decorated function as the arg.\n",
      "        return functools.partial(_disable_dynamo, recursive=recursive)\n",
      "\n",
      "comment\n",
      "# object expects the original decorated function as the arg.\n",
      "lineno\n",
      "55\n"
     ]
    }
   ],
   "source": [
    "inputs = parse_text(Path(\"example.py\").open(\"r\").read())\n",
    "\n",
    "print(len(inputs))\n",
    "for idx, i in enumerate(inputs):\n",
    "    print(idx, \"---------------\")\n",
    "    for k, v in i.items():\n",
    "        print(k)\n",
    "        print(v)"
   ]
  },
  {
   "cell_type": "code",
   "execution_count": null,
   "id": "2f7f8ddb-e2b1-46d4-80f6-9a86755bfdc0",
   "metadata": {},
   "outputs": [
    {
     "name": "stdout",
     "output_type": "stream",
     "text": [
      "0.9996691942214966\n",
      "0.9998605251312256\n",
      "0.9934530258178711\n",
      "0.9993849992752075\n"
     ]
    }
   ],
   "source": [
    "for inp in inputs:\n",
    "    print(predict(prepare_input(inp)))"
   ]
  },
  {
   "cell_type": "code",
   "execution_count": null,
   "id": "654d4874-1cf9-4d71-a092-c072cecadc25",
   "metadata": {},
   "outputs": [],
   "source": [
    "def parse_and_predict(text, thrd=None):\n",
    "    parsed = parse_text(text)\n",
    "    preds = [predict(prepare_input(p)) for p in parsed]\n",
    "    result = []\n",
    "    for i, p in enumerate(preds):\n",
    "        if thrd:\n",
    "            p = thrd > p\n",
    "        result.append((parsed[i][\"lineno\"], p))\n",
    "        \n",
    "    return result\n",
    "\n",
    "\n",
    "def parse_and_predict_file(path, thrd=None):\n",
    "    text = Path(path).open(\"r\").read()\n",
    "    return parse_and_predict(text, thrd)"
   ]
  },
  {
   "cell_type": "code",
   "execution_count": null,
   "id": "67f4210b-f931-4785-9dc0-804cc0514ef7",
   "metadata": {},
   "outputs": [
    {
     "data": {
      "text/plain": [
       "[(42, 0.9996691942214966),\n",
       " (48, 0.9998605251312256),\n",
       " (54, 0.9934530258178711),\n",
       " (55, 0.9993849992752075)]"
      ]
     },
     "execution_count": null,
     "metadata": {},
     "output_type": "execute_result"
    }
   ],
   "source": [
    "parse_and_predict_file(\"example.py\")"
   ]
  },
  {
   "cell_type": "code",
   "execution_count": null,
   "id": "99b769d6-2531-4531-ac8e-3e277edd263d",
   "metadata": {},
   "outputs": [
    {
     "data": {
      "text/plain": [
       "[(42, False), (48, False), (54, False), (55, False)]"
      ]
     },
     "execution_count": null,
     "metadata": {},
     "output_type": "execute_result"
    }
   ],
   "source": [
    "parse_and_predict_file(\"example.py\", 0.99)"
   ]
  },
  {
   "cell_type": "code",
   "execution_count": null,
   "id": "e7e29ef4-6b8b-46d2-91c1-5672b9ac19d6",
   "metadata": {},
   "outputs": [],
   "source": []
  }
 ],
 "metadata": {
  "kernelspec": {
   "display_name": "Python 3 (ipykernel)",
   "language": "python",
   "name": "python3"
  },
  "language_info": {
   "codemirror_mode": {
    "name": "ipython",
    "version": 3
   },
   "file_extension": ".py",
   "mimetype": "text/x-python",
   "name": "python",
   "nbconvert_exporter": "python",
   "pygments_lexer": "ipython3"
  }
 },
 "nbformat": 4,
 "nbformat_minor": 5
}
